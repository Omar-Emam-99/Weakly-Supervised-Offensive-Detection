{
 "cells": [
  {
   "cell_type": "code",
   "execution_count": 4,
   "id": "a4062a15-bfc3-4cca-a2c7-29e9fef5b7a3",
   "metadata": {},
   "outputs": [],
   "source": [
    "import torch\n",
    "from scipy.spatial.distance import cosine\n",
    "from transformers import AutoModel, AutoTokenizer\n",
    "import torch.nn.functional as F\n",
    "from datasets import load_dataset"
   ]
  },
  {
   "cell_type": "code",
   "execution_count": 5,
   "id": "6db10466-1940-429a-8a0e-87ee9cf2f3f0",
   "metadata": {},
   "outputs": [],
   "source": [
    "# Import our models. The package will take care of downloading the models automatically\n",
    "model_ckpt = \"princeton-nlp/sup-simcse-bert-base-uncased\"\n",
    "tokenizer = AutoTokenizer.from_pretrained(model_ckpt)\n",
    "model = AutoModel.from_pretrained(model_ckpt)"
   ]
  },
  {
   "cell_type": "code",
   "execution_count": 6,
   "id": "091ed0cb-7178-473e-9015-e59987aada0c",
   "metadata": {},
   "outputs": [],
   "source": [
    "texts = [\n",
    "    \"There's a kid on a skateboard.\",\n",
    "    \"A kid is skateboarding.\",\n",
    "    \"A kid is inside the house.\"\n",
    "]\n",
    "inputs = tokenizer(texts, padding=True, truncation=True, return_tensors=\"pt\")"
   ]
  },
  {
   "cell_type": "code",
   "execution_count": 7,
   "id": "452b03ef-07bf-411e-82eb-899fc8ae52d2",
   "metadata": {},
   "outputs": [
    {
     "data": {
      "text/plain": [
       "torch.Size([3, 768])"
      ]
     },
     "execution_count": 7,
     "metadata": {},
     "output_type": "execute_result"
    }
   ],
   "source": [
    "# Get the embeddings\n",
    "with torch.no_grad():\n",
    "    embeddings = model(**inputs, output_hidden_states=True, return_dict=True).pooler_output\n",
    "embeddings.size()"
   ]
  },
  {
   "cell_type": "code",
   "execution_count": 8,
   "id": "0716d667-bb77-4b1b-82a1-9de0b89de005",
   "metadata": {},
   "outputs": [
    {
     "name": "stdout",
     "output_type": "stream",
     "text": [
      "Cosine similarity between \"There's a kid on a skateboard.\" and \"A kid is skateboarding.\" is: 0.943\n",
      "Cosine similarity between \"There's a kid on a skateboard.\" and \"A kid is inside the house.\" is: 0.439\n",
      "Cosine similarity between \"A kid is skateboarding.\" and \"A kid is inside the house.\" is: 0.454\n"
     ]
    }
   ],
   "source": [
    "# Calculate cosine similarities\n",
    "# Cosine similarities are in [-1, 1]. Higher means more similar\n",
    "cosine_sim_0_1 = 1 - cosine(embeddings[0], embeddings[1])\n",
    "cosine_sim_0_2 = 1 - cosine(embeddings[0], embeddings[2])\n",
    "cosine_sim_1_2 = 1 - cosine(embeddings[1], embeddings[2])\n",
    "\n",
    "print(\"Cosine similarity between \\\"%s\\\" and \\\"%s\\\" is: %.3f\" % (texts[0], texts[1], cosine_sim_0_1))\n",
    "print(\"Cosine similarity between \\\"%s\\\" and \\\"%s\\\" is: %.3f\" % (texts[0], texts[2], cosine_sim_0_2))\n",
    "print(\"Cosine similarity between \\\"%s\\\" and \\\"%s\\\" is: %.3f\" % (texts[1], texts[2], cosine_sim_1_2))"
   ]
  },
  {
   "cell_type": "code",
   "execution_count": 9,
   "id": "2b09b7cf-1887-42d7-ac51-0c05f9bbe3e5",
   "metadata": {},
   "outputs": [],
   "source": [
    "import numpy as np\n",
    "\"\"\"\"\"\"\n",
    "def cosine_sim_matric(emeb):\n",
    "    n = emeb.size(0)\n",
    "    cos_metric = np.zeros((n,n))\n",
    "    for i in range(n):\n",
    "        for j in range(n):\n",
    "            cos_metric[i][j] = 1 - cosine(emeb[i], emeb[j]) \n",
    "    return cos_metric"
   ]
  },
  {
   "cell_type": "code",
   "execution_count": 7,
   "id": "b317c1a3-a44e-4007-8ced-7545904db269",
   "metadata": {},
   "outputs": [
    {
     "data": {
      "text/plain": [
       "array([[1.        , 0.94252908, 0.4387798 ],\n",
       "       [0.94252908, 1.        , 0.45440719],\n",
       "       [0.4387798 , 0.45440719, 1.        ]])"
      ]
     },
     "execution_count": 7,
     "metadata": {},
     "output_type": "execute_result"
    }
   ],
   "source": [
    "cosine_sim_matric(embeddings)"
   ]
  },
  {
   "cell_type": "code",
   "execution_count": 8,
   "id": "d1d9ed5e-121d-4ee1-87b1-98a196573254",
   "metadata": {},
   "outputs": [
    {
     "name": "stderr",
     "output_type": "stream",
     "text": [
      "Using custom data configuration Dataset-e33be6df9e0fed9d\n"
     ]
    },
    {
     "name": "stdout",
     "output_type": "stream",
     "text": [
      "Downloading and preparing dataset json/Dataset to /root/.cache/huggingface/datasets/json/Dataset-e33be6df9e0fed9d/0.0.0/a3e658c4731e59120d44081ac10bf85dc7e1388126b92338344ce9661907f253...\n"
     ]
    },
    {
     "data": {
      "application/vnd.jupyter.widget-view+json": {
       "model_id": "c95c003189744f71bc4d4c546c1296af",
       "version_major": 2,
       "version_minor": 0
      },
      "text/plain": [
       "Downloading data files:   0%|          | 0/1 [00:00<?, ?it/s]"
      ]
     },
     "metadata": {},
     "output_type": "display_data"
    },
    {
     "data": {
      "application/vnd.jupyter.widget-view+json": {
       "model_id": "831efc27ace2465990f1e35fac0d67ff",
       "version_major": 2,
       "version_minor": 0
      },
      "text/plain": [
       "Extracting data files:   0%|          | 0/1 [00:00<?, ?it/s]"
      ]
     },
     "metadata": {},
     "output_type": "display_data"
    },
    {
     "data": {
      "application/vnd.jupyter.widget-view+json": {
       "model_id": "",
       "version_major": 2,
       "version_minor": 0
      },
      "text/plain": [
       "0 tables [00:00, ? tables/s]"
      ]
     },
     "metadata": {},
     "output_type": "display_data"
    },
    {
     "name": "stdout",
     "output_type": "stream",
     "text": [
      "Dataset json downloaded and prepared to /root/.cache/huggingface/datasets/json/Dataset-e33be6df9e0fed9d/0.0.0/a3e658c4731e59120d44081ac10bf85dc7e1388126b92338344ce9661907f253. Subsequent calls will reuse this data.\n"
     ]
    },
    {
     "data": {
      "application/vnd.jupyter.widget-view+json": {
       "model_id": "e467a153fe0b49e79c96478583f60c79",
       "version_major": 2,
       "version_minor": 0
      },
      "text/plain": [
       "  0%|          | 0/1 [00:00<?, ?it/s]"
      ]
     },
     "metadata": {},
     "output_type": "display_data"
    }
   ],
   "source": [
    "data_files = {\"train\": \"olid_train.json\"}\n",
    "dataset = load_dataset(\"Dataset\" , data_files=data_files)"
   ]
  },
  {
   "cell_type": "code",
   "execution_count": 14,
   "id": "33d7fb0a-21f0-446b-aafa-69905faf7867",
   "metadata": {},
   "outputs": [],
   "source": [
    "train_data = dataset[\"train\"]"
   ]
  },
  {
   "cell_type": "code",
   "execution_count": 15,
   "id": "b75fe856-fa68-46e4-881d-53bd178c1f3c",
   "metadata": {},
   "outputs": [],
   "source": [
    "train_data = dataset['train'].rename_column('subtask_a' , 'labels')"
   ]
  },
  {
   "cell_type": "code",
   "execution_count": 16,
   "id": "9ce721ab-6ad3-4f17-9ece-8d2c46992ddf",
   "metadata": {},
   "outputs": [],
   "source": [
    "train_data= train_data.remove_columns(['id' ,'subtask_b' , 'subtask_c'])"
   ]
  },
  {
   "cell_type": "code",
   "execution_count": 17,
   "id": "2c1c755d-4fac-49e2-9003-3093e2e2455e",
   "metadata": {},
   "outputs": [
    {
     "data": {
      "text/plain": [
       "Dataset({\n",
       "    features: ['tweet', 'labels'],\n",
       "    num_rows: 1\n",
       "})"
      ]
     },
     "execution_count": 17,
     "metadata": {},
     "output_type": "execute_result"
    }
   ],
   "source": [
    "train_data"
   ]
  },
  {
   "cell_type": "code",
   "execution_count": 19,
   "id": "3d093b6d-9ba8-4fb3-9adb-6b9b71c01202",
   "metadata": {},
   "outputs": [
    {
     "data": {
      "text/plain": [
       "dict_keys(['id', 'tweet', 'subtask_a', 'subtask_b', 'subtask_c'])"
      ]
     },
     "execution_count": 19,
     "metadata": {},
     "output_type": "execute_result"
    }
   ],
   "source": [
    "import json , csv\n",
    "with open(\"Dataset/olid_train.json\" ,'r') as file :\n",
    "    data = json.load(file)\n",
    "data.keys()"
   ]
  },
  {
   "cell_type": "code",
   "execution_count": 25,
   "id": "b42a7b8e-be53-44b1-bc9c-0365dcc87a8a",
   "metadata": {},
   "outputs": [],
   "source": [
    "from collections import defaultdict\n",
    "\n",
    "train_data = defaultdict(list)\n",
    "\n",
    "for t_value , label_value in zip(data[\"tweet\"].values(),data[\"subtask_a\"].values()) :\n",
    "    train_data[\"tweets\"].append(t_value)\n",
    "    train_data[\"labels\"].append(1 if label_value ==\"OFF\" else 0)\n",
    "    train_data[\"labels_name\"].append(label_value)\n"
   ]
  },
  {
   "cell_type": "code",
   "execution_count": 27,
   "id": "860980a0-7b20-4e53-85e9-7221949a1069",
   "metadata": {},
   "outputs": [
    {
     "data": {
      "text/plain": [
       "{'tweets': '@USER She should ask a few native Americans what their take on this is.',\n",
       " 'labels': 1,\n",
       " 'labels_name': 'OFF'}"
      ]
     },
     "execution_count": 27,
     "metadata": {},
     "output_type": "execute_result"
    }
   ],
   "source": [
    "from datasets import Dataset\n",
    "train_dataset = Dataset.from_dict(train_data)\n",
    "train_dataset[0]"
   ]
  },
  {
   "cell_type": "code",
   "execution_count": 28,
   "id": "28784633-38c7-4230-bbd5-7a96defd0ade",
   "metadata": {},
   "outputs": [
    {
     "data": {
      "application/vnd.jupyter.widget-view+json": {
       "model_id": "4fa3ce3e3bc3496bb1256ca48af0ac45",
       "version_major": 2,
       "version_minor": 0
      },
      "text/plain": [
       "Creating json from Arrow format:   0%|          | 0/2 [00:00<?, ?ba/s]"
      ]
     },
     "metadata": {},
     "output_type": "display_data"
    },
    {
     "data": {
      "text/plain": [
       "2331148"
      ]
     },
     "execution_count": 28,
     "metadata": {},
     "output_type": "execute_result"
    }
   ],
   "source": [
    "train_dataset.to_json(\"Dataset/train.json\")"
   ]
  },
  {
   "cell_type": "code",
   "execution_count": 16,
   "id": "202809b0-9a08-4a7f-b5b9-a646362d9011",
   "metadata": {},
   "outputs": [],
   "source": [
    "inputs = tokenizer(train[\"tweets\"], padding=True, truncation=True, return_tensors=\"pt\")"
   ]
  },
  {
   "cell_type": "code",
   "execution_count": 17,
   "id": "cc70b079-d483-4afe-9462-8d4e34011c87",
   "metadata": {},
   "outputs": [
    {
     "data": {
      "text/plain": [
       "torch.Size([1655, 768])"
      ]
     },
     "execution_count": 17,
     "metadata": {},
     "output_type": "execute_result"
    }
   ],
   "source": [
    "# Get the embeddings\n",
    "with torch.no_grad():\n",
    "    embeddings = model(**inputs, output_hidden_states=True, return_dict=True).pooler_output\n",
    "embeddings.size()"
   ]
  },
  {
   "cell_type": "code",
   "execution_count": 14,
   "id": "e6f88488-7b94-47fb-8846-2bbe2888a086",
   "metadata": {},
   "outputs": [],
   "source": [
    "metric = cosine_sim_matric(embeddings)"
   ]
  },
  {
   "cell_type": "code",
   "execution_count": 18,
   "id": "cf4e6719-8560-4f26-aa2c-07d1d9429f90",
   "metadata": {},
   "outputs": [],
   "source": [
    "from LP import LabelPropagation , LabelSpreading"
   ]
  },
  {
   "cell_type": "code",
   "execution_count": 19,
   "id": "e6880a47-f90c-4773-8c36-34a0212d00b5",
   "metadata": {},
   "outputs": [
    {
     "data": {
      "text/html": [
       "<style>#sk-container-id-1 {color: black;background-color: white;}#sk-container-id-1 pre{padding: 0;}#sk-container-id-1 div.sk-toggleable {background-color: white;}#sk-container-id-1 label.sk-toggleable__label {cursor: pointer;display: block;width: 100%;margin-bottom: 0;padding: 0.3em;box-sizing: border-box;text-align: center;}#sk-container-id-1 label.sk-toggleable__label-arrow:before {content: \"▸\";float: left;margin-right: 0.25em;color: #696969;}#sk-container-id-1 label.sk-toggleable__label-arrow:hover:before {color: black;}#sk-container-id-1 div.sk-estimator:hover label.sk-toggleable__label-arrow:before {color: black;}#sk-container-id-1 div.sk-toggleable__content {max-height: 0;max-width: 0;overflow: hidden;text-align: left;background-color: #f0f8ff;}#sk-container-id-1 div.sk-toggleable__content pre {margin: 0.2em;color: black;border-radius: 0.25em;background-color: #f0f8ff;}#sk-container-id-1 input.sk-toggleable__control:checked~div.sk-toggleable__content {max-height: 200px;max-width: 100%;overflow: auto;}#sk-container-id-1 input.sk-toggleable__control:checked~label.sk-toggleable__label-arrow:before {content: \"▾\";}#sk-container-id-1 div.sk-estimator input.sk-toggleable__control:checked~label.sk-toggleable__label {background-color: #d4ebff;}#sk-container-id-1 div.sk-label input.sk-toggleable__control:checked~label.sk-toggleable__label {background-color: #d4ebff;}#sk-container-id-1 input.sk-hidden--visually {border: 0;clip: rect(1px 1px 1px 1px);clip: rect(1px, 1px, 1px, 1px);height: 1px;margin: -1px;overflow: hidden;padding: 0;position: absolute;width: 1px;}#sk-container-id-1 div.sk-estimator {font-family: monospace;background-color: #f0f8ff;border: 1px dotted black;border-radius: 0.25em;box-sizing: border-box;margin-bottom: 0.5em;}#sk-container-id-1 div.sk-estimator:hover {background-color: #d4ebff;}#sk-container-id-1 div.sk-parallel-item::after {content: \"\";width: 100%;border-bottom: 1px solid gray;flex-grow: 1;}#sk-container-id-1 div.sk-label:hover label.sk-toggleable__label {background-color: #d4ebff;}#sk-container-id-1 div.sk-serial::before {content: \"\";position: absolute;border-left: 1px solid gray;box-sizing: border-box;top: 0;bottom: 0;left: 50%;z-index: 0;}#sk-container-id-1 div.sk-serial {display: flex;flex-direction: column;align-items: center;background-color: white;padding-right: 0.2em;padding-left: 0.2em;position: relative;}#sk-container-id-1 div.sk-item {position: relative;z-index: 1;}#sk-container-id-1 div.sk-parallel {display: flex;align-items: stretch;justify-content: center;background-color: white;position: relative;}#sk-container-id-1 div.sk-item::before, #sk-container-id-1 div.sk-parallel-item::before {content: \"\";position: absolute;border-left: 1px solid gray;box-sizing: border-box;top: 0;bottom: 0;left: 50%;z-index: -1;}#sk-container-id-1 div.sk-parallel-item {display: flex;flex-direction: column;z-index: 1;position: relative;background-color: white;}#sk-container-id-1 div.sk-parallel-item:first-child::after {align-self: flex-end;width: 50%;}#sk-container-id-1 div.sk-parallel-item:last-child::after {align-self: flex-start;width: 50%;}#sk-container-id-1 div.sk-parallel-item:only-child::after {width: 0;}#sk-container-id-1 div.sk-dashed-wrapped {border: 1px dashed gray;margin: 0 0.4em 0.5em 0.4em;box-sizing: border-box;padding-bottom: 0.4em;background-color: white;}#sk-container-id-1 div.sk-label label {font-family: monospace;font-weight: bold;display: inline-block;line-height: 1.2em;}#sk-container-id-1 div.sk-label-container {text-align: center;}#sk-container-id-1 div.sk-container {/* jupyter's `normalize.less` sets `[hidden] { display: none; }` but bootstrap.min.css set `[hidden] { display: none !important; }` so we also need the `!important` here to be able to override the default hidden behavior on the sphinx rendered scikit-learn.org. See: https://github.com/scikit-learn/scikit-learn/issues/21755 */display: inline-block !important;position: relative;}#sk-container-id-1 div.sk-text-repr-fallback {display: none;}</style><div id=\"sk-container-id-1\" class=\"sk-top-container\"><div class=\"sk-text-repr-fallback\"><pre>LabelSpreading(kernel=&#x27;knn&#x27;, n_jobs=-1, n_neighbors=20)</pre><b>In a Jupyter environment, please rerun this cell to show the HTML representation or trust the notebook. <br />On GitHub, the HTML representation is unable to render, please try loading this page with nbviewer.org.</b></div><div class=\"sk-container\" hidden><div class=\"sk-item\"><div class=\"sk-estimator sk-toggleable\"><input class=\"sk-toggleable__control sk-hidden--visually\" id=\"sk-estimator-id-1\" type=\"checkbox\" checked><label for=\"sk-estimator-id-1\" class=\"sk-toggleable__label sk-toggleable__label-arrow\">LabelSpreading</label><div class=\"sk-toggleable__content\"><pre>LabelSpreading(kernel=&#x27;knn&#x27;, n_jobs=-1, n_neighbors=20)</pre></div></div></div></div></div>"
      ],
      "text/plain": [
       "LabelSpreading(kernel='knn', n_jobs=-1, n_neighbors=20)"
      ]
     },
     "execution_count": 19,
     "metadata": {},
     "output_type": "execute_result"
    }
   ],
   "source": [
    "LP = LabelSpreading(kernel='knn',n_jobs=-1,n_neighbors=20)   \n",
    "LP.fit(embeddings.numpy(),train[\"labels\"])"
   ]
  },
  {
   "cell_type": "code",
   "execution_count": 53,
   "id": "32b27118-4aaa-4121-ac07-94998c35e020",
   "metadata": {},
   "outputs": [
    {
     "data": {
      "text/plain": [
       "dict_keys(['id', 'tweet', 'subtask_a'])"
      ]
     },
     "execution_count": 53,
     "metadata": {},
     "output_type": "execute_result"
    }
   ],
   "source": [
    "with open(\"Dataset/olid_test.json\",\"r\") as file :\n",
    "    test_data = json.load(file)\n",
    "test_data.keys()"
   ]
  },
  {
   "cell_type": "code",
   "execution_count": 124,
   "id": "5ba89e64-eb8b-4571-8e5a-c0b6a78b7974",
   "metadata": {},
   "outputs": [],
   "source": [
    "test_dataset = defaultdict(list)\n",
    "for v , vl in zip(test_data[\"tweet\"].values()  ,test_data[\"subtask_a\"].values() ):\n",
    "    test_dataset[\"tweets\"].append(v)\n",
    "    test_dataset[\"labels\"].append(0 if vl=='OFF' else 1)"
   ]
  },
  {
   "cell_type": "code",
   "execution_count": 125,
   "id": "69e7f4c6-a5a1-4d9f-8a41-0189c1ec8836",
   "metadata": {},
   "outputs": [],
   "source": [
    "test = Dataset.from_dict(test_dataset)"
   ]
  },
  {
   "cell_type": "code",
   "execution_count": 126,
   "id": "95420a9f-5472-47a1-bf78-8bdd0ffd90eb",
   "metadata": {},
   "outputs": [],
   "source": [
    "test = test.shard(num_shards=4 , index=0)"
   ]
  },
  {
   "cell_type": "code",
   "execution_count": 154,
   "id": "a3f647a2-b0c2-4e47-8bb4-73bff81ea5bb",
   "metadata": {},
   "outputs": [
    {
     "data": {
      "text/plain": [
       "['¿Who the fuck is Yoru?',\n",
       " '@USER Hahahaha I wish...but a week is good, I’m extremely happy I get to have to for that long. It’s a good test drive for me...🙌',\n",
       " '@USER @USER @USER Katy is one of the best poets we have!',\n",
       " 'Last night before rolling over to fall asleep Jimmy says \"I would do anything for you\"  Man I love him with every last fiber of my being',\n",
       " '@USER sometimes things can be hard to hear.but we need to hear them.',\n",
       " 'Damn these niggas b lame that’s crazy']"
      ]
     },
     "execution_count": 154,
     "metadata": {},
     "output_type": "execute_result"
    }
   ],
   "source": [
    "test[\"tweets\"][:6]"
   ]
  },
  {
   "cell_type": "code",
   "execution_count": 148,
   "id": "4f89771f-a491-419f-864a-736ad30b6dba",
   "metadata": {},
   "outputs": [],
   "source": [
    "inputs_test = tokenizer(test[\"tweets\"], padding=True, truncation=True, return_tensors=\"pt\")"
   ]
  },
  {
   "cell_type": "code",
   "execution_count": 149,
   "id": "c7cf8c8a-cb8d-46fa-a368-833e3ecf3010",
   "metadata": {},
   "outputs": [
    {
     "data": {
      "text/plain": [
       "torch.Size([972, 768])"
      ]
     },
     "execution_count": 149,
     "metadata": {},
     "output_type": "execute_result"
    }
   ],
   "source": [
    "# Get the embeddings\n",
    "with torch.no_grad():\n",
    "    embeddings_test = model(**inputs_test, output_hidden_states=True, return_dict=True).pooler_output\n",
    "embeddings_test.size()"
   ]
  },
  {
   "cell_type": "code",
   "execution_count": 150,
   "id": "4b3f004a-e6aa-4d3d-996a-1fbd5a43adbe",
   "metadata": {},
   "outputs": [],
   "source": [
    "preds = LP.predict(embeddings_test)"
   ]
  },
  {
   "cell_type": "code",
   "execution_count": 153,
   "id": "7a002acc-d300-4108-8fd9-a1a243ee3cb1",
   "metadata": {},
   "outputs": [
    {
     "data": {
      "text/plain": [
       "array([1, 1, 1, 1, 1, 0])"
      ]
     },
     "execution_count": 153,
     "metadata": {},
     "output_type": "execute_result"
    }
   ],
   "source": [
    "preds[:6]"
   ]
  },
  {
   "cell_type": "code",
   "execution_count": 93,
   "id": "1fcda5f8-da20-4739-90e7-11d6eeb0dcf1",
   "metadata": {},
   "outputs": [],
   "source": [
    "testt =  test[\"tweets\"][9:19]"
   ]
  },
  {
   "cell_type": "code",
   "execution_count": 95,
   "id": "7327d5e3-4458-434e-a570-a1246e836cb2",
   "metadata": {},
   "outputs": [],
   "source": [
    "inp = tokenizer(testt, padding=True, truncation=True, return_tensors=\"pt\")"
   ]
  },
  {
   "cell_type": "code",
   "execution_count": 98,
   "id": "f1a4d50f-41c2-4d0d-b61a-25d6988d8665",
   "metadata": {},
   "outputs": [
    {
     "data": {
      "text/plain": [
       "torch.Size([10, 768])"
      ]
     },
     "execution_count": 98,
     "metadata": {},
     "output_type": "execute_result"
    }
   ],
   "source": [
    "with torch.no_grad():\n",
    "    embds = embeddings_test = model(**inp, output_hidden_states=True, return_dict=True).pooler_output\n",
    "embds.size()"
   ]
  },
  {
   "cell_type": "code",
   "execution_count": 158,
   "id": "61bfa28b-32ca-47af-8a9e-ad538840c349",
   "metadata": {},
   "outputs": [
    {
     "data": {
      "text/plain": [
       "972"
      ]
     },
     "execution_count": 158,
     "metadata": {},
     "output_type": "execute_result"
    }
   ],
   "source": [
    "len(test[\"labels\"])"
   ]
  },
  {
   "cell_type": "code",
   "execution_count": 163,
   "id": "4fed97c3-df24-4c28-acb7-39b20e39fab1",
   "metadata": {},
   "outputs": [
    {
     "name": "stdout",
     "output_type": "stream",
     "text": [
      "Accuracy of Data-Labeling : 83.64\n"
     ]
    }
   ],
   "source": [
    "from sklearn.metrics import accuracy_score\n",
    "acc = accuracy_score(test[\"labels\"] , preds) * 100\n",
    "print(f\"Accuracy of Data-Labeling : {acc:0.2f}\")"
   ]
  },
  {
   "cell_type": "code",
   "execution_count": null,
   "id": "c4dc2af3-7946-4537-ae5a-b2e615ac39cb",
   "metadata": {},
   "outputs": [],
   "source": []
  },
  {
   "cell_type": "code",
   "execution_count": null,
   "id": "2c827b20-00b8-4db0-b469-df0d3e862fe5",
   "metadata": {},
   "outputs": [],
   "source": []
  }
 ],
 "metadata": {
  "kernelspec": {
   "display_name": "Python 3 (ipykernel)",
   "language": "python",
   "name": "python3"
  },
  "language_info": {
   "codemirror_mode": {
    "name": "ipython",
    "version": 3
   },
   "file_extension": ".py",
   "mimetype": "text/x-python",
   "name": "python",
   "nbconvert_exporter": "python",
   "pygments_lexer": "ipython3",
   "version": "3.9.16"
  }
 },
 "nbformat": 4,
 "nbformat_minor": 5
}
