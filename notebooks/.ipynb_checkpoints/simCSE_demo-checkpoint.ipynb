{
 "cells": [
  {
   "cell_type": "code",
   "execution_count": 1,
   "id": "e9c5069f-ca95-4cd9-b19e-b84778f1b046",
   "metadata": {},
   "outputs": [],
   "source": [
    "import torch\n",
    "from scipy.spatial.distance import cosine\n",
    "from transformers import AutoModel, AutoTokenizer\n",
    "import torch.nn.functional as F\n",
    "from datasets import load_dataset\n",
    "import numpy as np\n",
    "from transformers import TrainingArguments, Trainer\n",
    "from torch.utils.data import DataLoader , Dataset"
   ]
  },
  {
   "cell_type": "code",
   "execution_count": 2,
   "id": "bc2bf9bc-1c95-417d-b0d6-aab0baf95672",
   "metadata": {},
   "outputs": [
    {
     "name": "stderr",
     "output_type": "stream",
     "text": [
      "Using custom data configuration default-c89ec5fbbdedc7ca\n",
      "Reusing dataset json (/root/.cache/huggingface/datasets/json/default-c89ec5fbbdedc7ca/0.0.0/a3e658c4731e59120d44081ac10bf85dc7e1388126b92338344ce9661907f253)\n"
     ]
    },
    {
     "data": {
      "application/vnd.jupyter.widget-view+json": {
       "model_id": "bd716f514a3a4467996796fcbeaa2193",
       "version_major": 2,
       "version_minor": 0
      },
      "text/plain": [
       "  0%|          | 0/1 [00:00<?, ?it/s]"
      ]
     },
     "metadata": {},
     "output_type": "display_data"
    }
   ],
   "source": [
    "train_data = load_dataset(\"json\" , data_files=\"Dataset/prep_data/train.json\")"
   ]
  },
  {
   "cell_type": "code",
   "execution_count": 18,
   "id": "92466425-ed91-48a4-bb7d-00e154ae36c5",
   "metadata": {},
   "outputs": [
    {
     "data": {
      "text/plain": [
       "{'tweets': ['@USER She should ask a few native Americans what their take on this is.',\n",
       "  'Amazon is investigating Chinese employees who are selling internal data to third-party sellers looking for an edge in the competitive marketplace. URL #Amazon #MAGA #KAG #CHINA #TCOT',\n",
       "  '@USER @USER Obama wanted liberals &amp; illegals to move into red states',\n",
       "  '@USER @USER Oh noes! Tough shit.',\n",
       "  '@USER Buy more icecream!!!',\n",
       "  '@USER @USER @USER It’s not my fault you support gun control',\n",
       "  '@USER you are a lying corrupt traitor!!! Nobody wants to hear anymore of your lies!!! #DeepStateCorruption URL',\n",
       "  '@USER @USER @USER @USER @USER @USER @USER @USER @USER @USER @USER @USER @USER @USER @USER @USER @USER @USER @USER @USER @USER @USER @USER @USER @USER @USER @USER @USER @USER @USER @USER @USER @USER @USER @USER @USER @USER @USER @USER @USER @USER @USER @USER @USER @USER @USER @USER @USER @USER @USER I like my soda like I like my boarders with a lot of ICE.'],\n",
       " 'labels': tensor([1, 0, 0, 1, 0, 0, 1, 0]),\n",
       " 'labels_name': ['OFF', 'NOT', 'NOT', 'OFF', 'NOT', 'NOT', 'OFF', 'NOT']}"
      ]
     },
     "execution_count": 18,
     "metadata": {},
     "output_type": "execute_result"
    }
   ],
   "source": [
    "frc_train_data = train_data[\"train\"].shard(num_shards=2 , index=0)\n",
    "type(frc_train_data)\n",
    "data = DataLoader(frc_train_data , batch_size=8)\n",
    "next(iter(data))"
   ]
  },
  {
   "cell_type": "code",
   "execution_count": 4,
   "id": "fa52cae0-6622-46c9-bfa9-59e0b910cd76",
   "metadata": {},
   "outputs": [
    {
     "data": {
      "text/plain": [
       "Dataset({\n",
       "    features: ['tweets', 'labels', 'labels_name'],\n",
       "    num_rows: 6620\n",
       "})"
      ]
     },
     "execution_count": 4,
     "metadata": {},
     "output_type": "execute_result"
    }
   ],
   "source": [
    "frc_train_data"
   ]
  },
  {
   "cell_type": "code",
   "execution_count": 5,
   "id": "db525dc6-8af2-4d48-948a-0372d5e75194",
   "metadata": {},
   "outputs": [],
   "source": [
    "# Import our models. The package will take care of downloading the models automatically\n",
    "model_ckpt = \"princeton-nlp/sup-simcse-bert-base-uncased\"\n",
    "tokenizer = AutoTokenizer.from_pretrained(model_ckpt)\n",
    "model = AutoModel.from_pretrained(model_ckpt)"
   ]
  },
  {
   "cell_type": "code",
   "execution_count": 6,
   "id": "168f16d0-584f-439d-9bd0-d42ca9a3e186",
   "metadata": {},
   "outputs": [],
   "source": [
    "inputs = tokenizer(frc_train_data[\"tweets\"], padding=True, truncation=True, return_tensors=\"pt\")"
   ]
  },
  {
   "cell_type": "code",
   "execution_count": 45,
   "id": "b2cf9a7b-c41c-438a-b9a8-cf59807a75e6",
   "metadata": {},
   "outputs": [
    {
     "data": {
      "text/plain": [
       "dict_keys(['input_ids', 'token_type_ids', 'attention_mask'])"
      ]
     },
     "execution_count": 45,
     "metadata": {},
     "output_type": "execute_result"
    }
   ],
   "source": [
    "inputs.keys()"
   ]
  },
  {
   "cell_type": "code",
   "execution_count": 33,
   "id": "227a2be0-eb4e-49d7-b6c3-5cc5aef26f6f",
   "metadata": {},
   "outputs": [],
   "source": [
    "\n",
    "import torch\n",
    "from torch.utils.data import Dataset\n",
    "\n",
    "\n",
    "inputs = tokenizer(frc_train_data[\"tweets\"], padding=True, truncation=True, return_tensors=\"pt\")\n",
    "class CustomDataset(Dataset):\n",
    "    def __init__(self, encodings):\n",
    "        self.encodings = encodings\n",
    "        \n",
    "    def __getitem__(self, idx):\n",
    "        input_ids = self.encodings.input_ids[idx]\n",
    "        attention_mask = self.encodings.attention_mask[idx]\n",
    "        token_type_ids = self.encodings.token_type_ids[idx]\n",
    "\n",
    "        return input_ids, attention_mask, token_type_ids\n",
    "\n",
    "    def __len__(self):\n",
    "        return len(self.encodings)\n",
    "dataset = CustomDataset(inputs)\n",
    "dataloader = torch.utils.data.DataLoader(dataset,batch_size=64,shuffle=False)\n",
    "next(iter(dataloader))"
   ]
  },
  {
   "cell_type": "code",
   "execution_count": 34,
   "id": "ff68acac-44c2-4271-85de-cb001602d3e6",
   "metadata": {},
   "outputs": [],
   "source": [
    "dataset = CustomDataset(inputs)\n",
    "dataloader = torch.utils.data.DataLoader(dataset,batch_size=64,shuffle=False)"
   ]
  },
  {
   "cell_type": "code",
   "execution_count": 36,
   "id": "88d26a6f-966d-4ee2-8cc5-b5cf8a7b8761",
   "metadata": {},
   "outputs": [],
   "source": [
    "input_ids, attention_mask, token_type_ids = next(iter(dataloader))"
   ]
  },
  {
   "cell_type": "code",
   "execution_count": 37,
   "id": "a10d6850-f3a2-44e5-93f5-2feb3a3a2e97",
   "metadata": {},
   "outputs": [
    {
     "data": {
      "text/plain": [
       "torch.Size([3, 171])"
      ]
     },
     "execution_count": 37,
     "metadata": {},
     "output_type": "execute_result"
    }
   ],
   "source": [
    "input_ids.shape"
   ]
  },
  {
   "cell_type": "code",
   "execution_count": 69,
   "id": "3c3e42ba-e737-4c53-bb2a-37237273a7c9",
   "metadata": {},
   "outputs": [],
   "source": [
    "import torch\n",
    "from torch.utils.data import Dataset\n",
    "from torch.utils.data import DataLoader\n",
    "inputs = tokenizer(frc_train_data[\"tweets\"], padding=True, truncation=True, return_tensors=\"pt\")\n",
    "\n",
    "class CustomDataset(Dataset):\n",
    "    def __init__(self, encodings):\n",
    "        self.encodings = encodings\n",
    "        \n",
    "    def __getitem__(self, idx):\n",
    "        input_ids = self.encodings.input_ids[idx]\n",
    "        attention_mask = self.encodings.attention_mask[idx]\n",
    "        token_type_ids = self.encodings.token_type_ids[idx]\n",
    "\n",
    "        return {\n",
    "            \"input_ids\": input_ids,\n",
    "            \"attention_mask\": attention_mask,\n",
    "            \"token_type_ids\": token_type_ids\n",
    "        }\n",
    "\n",
    "    def __len__(self):\n",
    "        return len(self.encodings.input_ids)\n",
    "\n",
    "dataset = CustomDataset(inputs)\n",
    "dataloader = DataLoader(dataset, batch_size= 64, shuffle=False)\n",
    "batch = next(iter(dataloader)).items()"
   ]
  },
  {
   "cell_type": "code",
   "execution_count": 70,
   "id": "c9c36fe6-1e67-45d3-98b7-93bc047b390f",
   "metadata": {},
   "outputs": [],
   "source": [
    "device = torch.device(\"cuda\" if torch.cuda.is_available() else \"cpu\")\n",
    "model.to(device)\n",
    "model.eval()\n",
    "\n",
    "with torch.no_grad():\n",
    "\n",
    "    embeddings = model(**batch, output_hidden_states=True, return_dict=True).pooler_output\n"
   ]
  },
  {
   "cell_type": "code",
   "execution_count": 71,
   "id": "fe2d2201-59f2-4946-9c18-60e350922b38",
   "metadata": {},
   "outputs": [
    {
     "data": {
      "text/plain": [
       "torch.Size([64, 768])"
      ]
     },
     "execution_count": 71,
     "metadata": {},
     "output_type": "execute_result"
    }
   ],
   "source": [
    "embeddings.size()"
   ]
  },
  {
   "cell_type": "code",
   "execution_count": null,
   "id": "44e3202c-c043-46bb-adb2-fb77eee04c16",
   "metadata": {},
   "outputs": [],
   "source": []
  }
 ],
 "metadata": {
  "kernelspec": {
   "display_name": "Python 3 (ipykernel)",
   "language": "python",
   "name": "python3"
  },
  "language_info": {
   "codemirror_mode": {
    "name": "ipython",
    "version": 3
   },
   "file_extension": ".py",
   "mimetype": "text/x-python",
   "name": "python",
   "nbconvert_exporter": "python",
   "pygments_lexer": "ipython3",
   "version": "3.9.16"
  }
 },
 "nbformat": 4,
 "nbformat_minor": 5
}
